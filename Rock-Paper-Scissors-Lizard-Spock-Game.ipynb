{
 "cells": [
  {
   "cell_type": "markdown",
   "metadata": {
    "tags": []
   },
   "source": [
    "# Rock-Paper-Scissors-Lizard-Spock Game"
   ]
  },
  {
   "cell_type": "code",
   "execution_count": 1,
   "metadata": {
    "tags": []
   },
   "outputs": [],
   "source": [
    "import time\n",
    "import random"
   ]
  },
  {
   "cell_type": "code",
   "execution_count": null,
   "metadata": {},
   "outputs": [],
   "source": [
    "# Set of choices\n",
    "actions = ['rock', 'paper', 'scissors', 'lizard', 'spock']"
   ]
  },
  {
   "cell_type": "code",
   "execution_count": 2,
   "metadata": {},
   "outputs": [],
   "source": [
    "#validates the player's move or provides help if requested\n",
    "def consist(choice):\n",
    "    if choice in actions:\n",
    "        return 'gameon'\n",
    "    elif choice == 'help':\n",
    "        return help\n",
    "    else:\n",
    "        raise ValueError(\"Invalid input. Please type rock, paper, scissors, lizard, or spock.\")"
   ]
  },
  {
   "cell_type": "code",
   "execution_count": 3,
   "metadata": {},
   "outputs": [
    {
     "data": {
      "text/plain": [
       "'lizard'"
      ]
     },
     "execution_count": 3,
     "metadata": {},
     "output_type": "execute_result"
    }
   ],
   "source": [
    "#randomly selects a move for the opponent from the 'actions' list\n",
    "def opponent():\n",
    "    return random.choice(actions)\n",
    "\n",
    "opponent()"
   ]
  },
  {
   "cell_type": "code",
   "execution_count": 4,
   "metadata": {},
   "outputs": [],
   "source": [
    "def rock(play):\n",
    "    # This function checks if 'rock' beats the player's move ('lizard' or 'scissors')\n",
    "    if play in ['lizard', 'scissors']:\n",
    "        return True  # Rock wins against lizard or scissors\n",
    "    else:\n",
    "        return False  # Rock loses against any other move"
   ]
  },
  {
   "cell_type": "code",
   "execution_count": 5,
   "metadata": {},
   "outputs": [],
   "source": [
    "def scissors(play):\n",
    "    # This function checks if 'scissors' beats the player's move ('lizard' or 'paper')\n",
    "    if play in ['lizard', 'paper']:\n",
    "        return True  # Scissors wins against lizard or paper\n",
    "    else:\n",
    "        return False  # Scissors loses against any other move"
   ]
  },
  {
   "cell_type": "code",
   "execution_count": 6,
   "metadata": {},
   "outputs": [],
   "source": [
    "def paper(play):\n",
    "    # This function checks if 'paper' beats the player's move ('spock' or 'rock')\n",
    "    if play in ['spock', 'rock']:\n",
    "        return True  # Paper wins against spock or rock\n",
    "    else:\n",
    "        return False  # Paper loses against any other move"
   ]
  },
  {
   "cell_type": "code",
   "execution_count": 7,
   "metadata": {},
   "outputs": [],
   "source": [
    "def lizard(play):\n",
    "    # This function checks if 'lizard' beats the player's move ('spock' or 'paper')\n",
    "    if play in ['spock', 'paper']:\n",
    "        return True  # Lizard wins against spock or paper\n",
    "    else:\n",
    "        return False  # Lizard loses against any other move"
   ]
  },
  {
   "cell_type": "code",
   "execution_count": 8,
   "metadata": {},
   "outputs": [],
   "source": [
    "def spock(play):\n",
    "    # This function checks if 'spock' beats the player's move ('rock' or 'scissors')\n",
    "    if play in ['rock', 'scissors']:\n",
    "        return True  # Spock wins against rock or scissors\n",
    "    else:\n",
    "        return False  # Spock loses against any other move"
   ]
  },
  {
   "cell_type": "code",
   "execution_count": 9,
   "metadata": {},
   "outputs": [],
   "source": [
    "# This dictionary maps each move to its corresponding function that checks which moves it can beat\n",
    "myplays = dict(zip(['rock', 'paper', 'scissors', 'lizard', 'spock'], [rock, paper, scissors, lizard, spock]))\n"
   ]
  },
  {
   "cell_type": "code",
   "execution_count": 10,
   "metadata": {},
   "outputs": [],
   "source": [
    "#determines the outcome of a game round based on the player's move (you) and the computer's move (comp) using the myplays dictionary.\n",
    "def gameon(myplays, you, comp):\n",
    "    move = myplays[you](comp)\n",
    "    if you == comp:\n",
    "        result = 'tie'\n",
    "    elif move:\n",
    "        result = 'you'\n",
    "    else:\n",
    "        result = 'computer'\n",
    "    return (result, you, comp)"
   ]
  },
  {
   "cell_type": "code",
   "execution_count": 11,
   "metadata": {},
   "outputs": [],
   "source": [
    "hooraytext = \"\"\"\n",
    "You choose: {}\n",
    "The computer chose: {}\n",
    "\n",
    "{}\n",
    "\"\"\" \n",
    "#generates a formatted message based on the outcome of the game.\n",
    "def hooray(result):\n",
    "    if result[0] == 'you':\n",
    "        message = \"Hooray, you won!\"\n",
    "    elif result[0] == 'computer':\n",
    "        message = \"Oh no, you lost... Better luck next time!\"\n",
    "    else:\n",
    "        message = \"It was a tie. Keep up, you got this!\"\n",
    "\n",
    "    return hooraytext.format(result[1], result[2], message)\n"
   ]
  },
  {
   "cell_type": "code",
   "execution_count": 12,
   "metadata": {
    "scrolled": true
   },
   "outputs": [
    {
     "name": "stdout",
     "output_type": "stream",
     "text": [
      "\n",
      "You choose: rock\n",
      "The computer chose: lizard\n",
      "\n",
      "Hooray, you won!\n",
      "\n"
     ]
    }
   ],
   "source": [
    "print(hooray(('you', 'rock', 'lizard')))"
   ]
  },
  {
   "cell_type": "code",
   "execution_count": 13,
   "metadata": {},
   "outputs": [],
   "source": [
    "# A prompt function for you\n",
    "def myprompt():\n",
    "    choice = input(\"Choose a weapon or stop: >> \")\n",
    "    choice = choice.lower()\n",
    "    if choice == 'stop':\n",
    "        print('\\n\\nThanks for playing. See you next time!', end = '\\n\\n')\n",
    "        return None\n",
    "    try:\n",
    "        if choice == 'help':\n",
    "            myhelp()\n",
    "        else:\n",
    "            print(hooray(gameon(myplays, mythrill(choice), opponent())))\n",
    "    except:\n",
    "        print(\"\\nThis selection is invalid. Type 'help' to check your options or 'stop' to stop the game.\\n\")\n",
    "    myprompt()\n",
    "    \n",
    "\n",
    "# A thriller function\n",
    "def mythrill(mychoice):\n",
    "    print('\\n\\nAlright. ', end = '')\n",
    "    time.sleep(1)\n",
    "    print('Now shout with me: ', end = '')\n",
    "    time.sleep(1)\n",
    "    print('...Rock...', end = '')\n",
    "    time.sleep(0.5)\n",
    "    print('...Paper...', end = '')\n",
    "    time.sleep(0.5)\n",
    "    print('...Scissors...', end = '')\n",
    "    time.sleep(0.5)\n",
    "    print('...Lizard...', end = '')\n",
    "    time.sleep(0.5)\n",
    "    print('...Spock!', end = '\\n\\n')\n",
    "    time.sleep(1)\n",
    "    return mychoice\n",
    "\n",
    "# A help function\n",
    "def myhelp():\n",
    "    myhelpstr = \"\"\"\n",
    "This is my Rock-Paper-Scissors-Lizard-Spock game.\n",
    "\n",
    "You can select among the following weapons:\n",
    "\n",
    "1. Rock: It wins against Lizard or Scissors (crushes the Lizard and breaks the Scissor)\n",
    "\n",
    "2. Paper: Wins against Spock or Rock (disproves Spock and wraps the Rock)\n",
    "\n",
    "3. Scissors: Wins against Lizard and Paper (kills the Lizard or cuts the Paper)\n",
    "\n",
    "4. Lizard: Wins against Spock and Paper (poisons Spock or eats the Paper)\n",
    "\n",
    "5. Spock: Wins against Rock and Paper (vaporizes the Rock and smashes the Scissors)\n",
    "\n",
    "To choose a weapon, just type its name. No need to type in lower or upper case. The prompt is smart \n",
    "enough to choose the right action here.\n",
    "\n",
    "When you are done, you can leave the game by typing 'stop'.\n",
    "\n",
    "Game on!\n",
    "\"\"\"\n",
    "    print('\\n\\n')\n",
    "    print(myhelpstr, end = '\\n\\n')"
   ]
  },
  {
   "cell_type": "code",
   "execution_count": null,
   "metadata": {},
   "outputs": [
    {
     "name": "stdout",
     "output_type": "stream",
     "text": [
      "Choose a weapon or stop: >> rock\n",
      "\n",
      "\n",
      "Alright. Now shout with me: ...Rock......Paper......Scissors......Lizard......Spock!\n",
      "\n",
      "\n",
      "You choose: rock\n",
      "The computer chose: lizard\n",
      "\n",
      "Hooray, you won!\n",
      "\n"
     ]
    }
   ],
   "source": [
    "#play game\n",
    "\n",
    "myprompt()"
   ]
  },
  {
   "cell_type": "markdown",
   "metadata": {},
   "source": [
    "**Great work!**"
   ]
  }
 ],
 "metadata": {
  "kernelspec": {
   "display_name": "mykernel",
   "language": "python",
   "name": "mykernel"
  },
  "language_info": {
   "codemirror_mode": {
    "name": "ipython",
    "version": 3
   },
   "file_extension": ".py",
   "mimetype": "text/x-python",
   "name": "python",
   "nbconvert_exporter": "python",
   "pygments_lexer": "ipython3",
   "version": "3.9.5"
  },
  "varInspector": {
   "cols": {
    "lenName": 16,
    "lenType": 16,
    "lenVar": 40
   },
   "kernels_config": {
    "python": {
     "delete_cmd_postfix": "",
     "delete_cmd_prefix": "del ",
     "library": "var_list.py",
     "varRefreshCmd": "print(var_dic_list())"
    },
    "r": {
     "delete_cmd_postfix": ") ",
     "delete_cmd_prefix": "rm(",
     "library": "var_list.r",
     "varRefreshCmd": "cat(var_dic_list()) "
    }
   },
   "types_to_exclude": [
    "module",
    "function",
    "builtin_function_or_method",
    "instance",
    "_Feature"
   ],
   "window_display": false
  }
 },
 "nbformat": 4,
 "nbformat_minor": 4
}
